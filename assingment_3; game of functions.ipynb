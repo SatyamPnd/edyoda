{
 "cells": [
  {
   "cell_type": "code",
   "execution_count": null,
   "id": "a7a641a3",
   "metadata": {},
   "outputs": [],
   "source": [
    "l = input(\"enter the numbers in a list seperated by a space\")\n",
    "user_l = l.split()\n",
    "print(\"list:\",user_l)\n",
    "for i in range(len(user_l)):\n",
    "    user_l[i]=int(user_l[i])\n",
    "print(\"sum:\",sum(user_l))"
   ]
  },
  {
   "cell_type": "code",
   "execution_count": null,
   "id": "c86b3b3f",
   "metadata": {},
   "outputs": [],
   "source": []
  }
 ],
 "metadata": {
  "kernelspec": {
   "display_name": "Python 3 (ipykernel)",
   "language": "python",
   "name": "python3"
  },
  "language_info": {
   "codemirror_mode": {
    "name": "ipython",
    "version": 3
   },
   "file_extension": ".py",
   "mimetype": "text/x-python",
   "name": "python",
   "nbconvert_exporter": "python",
   "pygments_lexer": "ipython3",
   "version": "3.9.7"
  }
 },
 "nbformat": 4,
 "nbformat_minor": 5
}
