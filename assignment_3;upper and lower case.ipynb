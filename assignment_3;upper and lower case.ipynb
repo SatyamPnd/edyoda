{
 "cells": [
  {
   "cell_type": "code",
   "execution_count": 4,
   "id": "ab13a5c0",
   "metadata": {},
   "outputs": [
    {
     "name": "stdout",
     "output_type": "stream",
     "text": [
      "write the sentance without spaceMyNameIsSatyam\n",
      "number of upper case letters 4\n",
      "number of lower case letters 10\n"
     ]
    }
   ],
   "source": [
    "a = 0\n",
    "b = 0\n",
    "l = input(\"write the sentance without space\")\n",
    "for i in l:\n",
    "    if i.isupper():\n",
    "        a+=1\n",
    "    elif i.islower():\n",
    "        b+=1\n",
    "    else:\n",
    "        pass\n",
    "\n",
    "print(\"number of upper case letters\",a)\n",
    "print(\"number of lower case letters\",b)"
   ]
  },
  {
   "cell_type": "code",
   "execution_count": null,
   "id": "8536dc46",
   "metadata": {},
   "outputs": [],
   "source": []
  }
 ],
 "metadata": {
  "kernelspec": {
   "display_name": "Python 3 (ipykernel)",
   "language": "python",
   "name": "python3"
  },
  "language_info": {
   "codemirror_mode": {
    "name": "ipython",
    "version": 3
   },
   "file_extension": ".py",
   "mimetype": "text/x-python",
   "name": "python",
   "nbconvert_exporter": "python",
   "pygments_lexer": "ipython3",
   "version": "3.9.7"
  }
 },
 "nbformat": 4,
 "nbformat_minor": 5
}
