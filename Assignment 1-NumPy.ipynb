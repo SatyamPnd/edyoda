{
 "cells": [
  {
   "cell_type": "code",
   "execution_count": 2,
   "id": "daa414ee",
   "metadata": {},
   "outputs": [
    {
     "name": "stdout",
     "output_type": "stream",
     "text": [
      "[0. 0. 0. 0. 0. 1. 0. 0. 0. 0.]\n"
     ]
    }
   ],
   "source": [
    "#Create a null vector of size 10 but the fifth value which is 1\n",
    "import numpy as np\n",
    "vec = np.zeros(10)\n",
    "vec[5]=1\n",
    "print(vec)"
   ]
  },
  {
   "cell_type": "code",
   "execution_count": 4,
   "id": "337f66e0",
   "metadata": {},
   "outputs": [
    {
     "name": "stdout",
     "output_type": "stream",
     "text": [
      "[10 11 12 13 14 15 16 17 18 19 20 21 22 23 24 25 26 27 28 29 30 31 32 33\n",
      " 34 35 36 37 38 39 40 41 42 43 44 45 46 47 48]\n"
     ]
    }
   ],
   "source": [
    "#Create a vector with values ranging from 10 to 49.\n",
    "vec = np.arange(10,49)\n",
    "print(vec)"
   ]
  },
  {
   "cell_type": "code",
   "execution_count": 8,
   "id": "dce19cf3",
   "metadata": {},
   "outputs": [
    {
     "name": "stdout",
     "output_type": "stream",
     "text": [
      "[[0 1 2]\n",
      " [3 4 5]\n",
      " [6 7 8]]\n"
     ]
    }
   ],
   "source": [
    "#Create a 3x3 matrix with values ranging from 0 to 8\n",
    "vec = np.arange(9).reshape(3,3)\n",
    "print(vec)"
   ]
  },
  {
   "cell_type": "code",
   "execution_count": 9,
   "id": "c93c2327",
   "metadata": {},
   "outputs": [
    {
     "name": "stdout",
     "output_type": "stream",
     "text": [
      "(array([0, 1, 4], dtype=int64),)\n"
     ]
    }
   ],
   "source": [
    "# Find indices of non-zero elements from [1,2,0,0,4,0]\n",
    "z=np.nonzero([1,2,0,0,4,0])\n",
    "print(z)"
   ]
  },
  {
   "cell_type": "code",
   "execution_count": 13,
   "id": "f3d93f82",
   "metadata": {},
   "outputs": [
    {
     "name": "stdout",
     "output_type": "stream",
     "text": [
      "Minimum value is: 0.005052098114638803\n",
      "Maximum value is: 0.9891940335920829\n"
     ]
    }
   ],
   "source": [
    "#Create a 10x10 array with random values and find the minimum and maximum values.\n",
    "z= np.random.random((10,10))\n",
    "print('Minimum value is:',z.min())\n",
    "print('Maximum value is:',z.max())"
   ]
  },
  {
   "cell_type": "code",
   "execution_count": 18,
   "id": "e52b8dad",
   "metadata": {},
   "outputs": [
    {
     "name": "stdout",
     "output_type": "stream",
     "text": [
      "0.5783421228977549\n"
     ]
    }
   ],
   "source": [
    "#Create a random vector of size 30 and find the mean value.\n",
    "z = np.random.random(30)\n",
    "m = z.mean()\n",
    "print(m)"
   ]
  },
  {
   "cell_type": "code",
   "execution_count": null,
   "id": "cbbce8c6",
   "metadata": {},
   "outputs": [],
   "source": []
  }
 ],
 "metadata": {
  "kernelspec": {
   "display_name": "Python 3 (ipykernel)",
   "language": "python",
   "name": "python3"
  },
  "language_info": {
   "codemirror_mode": {
    "name": "ipython",
    "version": 3
   },
   "file_extension": ".py",
   "mimetype": "text/x-python",
   "name": "python",
   "nbconvert_exporter": "python",
   "pygments_lexer": "ipython3",
   "version": "3.9.7"
  }
 },
 "nbformat": 4,
 "nbformat_minor": 5
}
