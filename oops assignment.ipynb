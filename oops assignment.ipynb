{
 "cells": [
  {
   "cell_type": "code",
   "execution_count": 21,
   "id": "1efa013a",
   "metadata": {},
   "outputs": [
    {
     "name": "stdout",
     "output_type": "stream",
     "text": [
      "enter the number5\n",
      "enter the exponent2\n",
      "25\n"
     ]
    }
   ],
   "source": [
    "x = int(input('enter the number'))\n",
    "n = int(input('enter the exponent'))\n",
    "class power:\n",
    "    def __init__(self,x,n,z):\n",
    "        self.x=x\n",
    "        self.n=n\n",
    "        self.z=z\n",
    "    def value(x):\n",
    "        return x**n\n",
    "    print(value(x))"
   ]
  },
  {
   "cell_type": "code",
   "execution_count": null,
   "id": "1179cd5a",
   "metadata": {},
   "outputs": [],
   "source": []
  }
 ],
 "metadata": {
  "kernelspec": {
   "display_name": "Python 3 (ipykernel)",
   "language": "python",
   "name": "python3"
  },
  "language_info": {
   "codemirror_mode": {
    "name": "ipython",
    "version": 3
   },
   "file_extension": ".py",
   "mimetype": "text/x-python",
   "name": "python",
   "nbconvert_exporter": "python",
   "pygments_lexer": "ipython3",
   "version": "3.9.7"
  }
 },
 "nbformat": 4,
 "nbformat_minor": 5
}
