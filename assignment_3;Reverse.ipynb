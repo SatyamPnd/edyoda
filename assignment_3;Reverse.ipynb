{
 "cells": [
  {
   "cell_type": "code",
   "execution_count": 17,
   "id": "fac694c2",
   "metadata": {},
   "outputs": [
    {
     "name": "stdout",
     "output_type": "stream",
     "text": [
      "Enter the elements in the list with space1 2 3 a b c d\n",
      "['d', 'c', 'b', 'a', '3', '2', '1']\n"
     ]
    }
   ],
   "source": [
    "l = input(\"Enter the elements in the list with space\")\n",
    "user_l = l.split()\n",
    "def reverse(user_l):\n",
    "    user_l.reverse()\n",
    "    return user_l\n",
    "print(reverse(user_l))"
   ]
  },
  {
   "cell_type": "code",
   "execution_count": null,
   "id": "3138bd41",
   "metadata": {},
   "outputs": [],
   "source": []
  }
 ],
 "metadata": {
  "kernelspec": {
   "display_name": "Python 3 (ipykernel)",
   "language": "python",
   "name": "python3"
  },
  "language_info": {
   "codemirror_mode": {
    "name": "ipython",
    "version": 3
   },
   "file_extension": ".py",
   "mimetype": "text/x-python",
   "name": "python",
   "nbconvert_exporter": "python",
   "pygments_lexer": "ipython3",
   "version": "3.9.7"
  }
 },
 "nbformat": 4,
 "nbformat_minor": 5
}
