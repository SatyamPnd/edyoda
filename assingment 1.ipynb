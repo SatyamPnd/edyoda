{
 "cells": [
  {
   "cell_type": "code",
   "execution_count": 8,
   "id": "c5c42db6",
   "metadata": {},
   "outputs": [
    {
     "name": "stdout",
     "output_type": "stream",
     "text": [
      "even numbers in series are 5\n",
      "odd numbers in series are 4\n"
     ]
    }
   ],
   "source": [
    "\n",
    "a=0\n",
    "b=0\n",
    "for i in range(0,9):\n",
    "    if(i%2==0):\n",
    "        a+=1\n",
    "    else:\n",
    "        b+=1\n",
    "        \n",
    "print(\"even numbers in series are\",a)\n",
    "print(\"odd numbers in series are\",b)\n"
   ]
  },
  {
   "cell_type": "code",
   "execution_count": null,
   "id": "3b9fac78",
   "metadata": {},
   "outputs": [],
   "source": [
    "#programme to count the number of even numbers and odd numbers"
   ]
  }
 ],
 "metadata": {
  "kernelspec": {
   "display_name": "Python 3 (ipykernel)",
   "language": "python",
   "name": "python3"
  },
  "language_info": {
   "codemirror_mode": {
    "name": "ipython",
    "version": 3
   },
   "file_extension": ".py",
   "mimetype": "text/x-python",
   "name": "python",
   "nbconvert_exporter": "python",
   "pygments_lexer": "ipython3",
   "version": "3.9.7"
  }
 },
 "nbformat": 4,
 "nbformat_minor": 5
}
